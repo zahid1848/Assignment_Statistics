{
  "nbformat": 4,
  "nbformat_minor": 0,
  "metadata": {
    "colab": {
      "provenance": []
    },
    "kernelspec": {
      "name": "python3",
      "display_name": "Python 3"
    },
    "language_info": {
      "name": "python"
    }
  },
  "cells": [
    {
      "cell_type": "code",
      "execution_count": 20,
      "metadata": {
        "colab": {
          "base_uri": "https://localhost:8080/"
        },
        "id": "OAvqfUWqHrlp",
        "outputId": "065e59d6-d585-4fd4-d981-405aaa70469a"
      },
      "outputs": [
        {
          "output_type": "execute_result",
          "data": {
            "text/plain": [
              "[121,\n",
              " 96,\n",
              " 126,\n",
              " 112,\n",
              " 124,\n",
              " 90,\n",
              " 112,\n",
              " 122,\n",
              " 126,\n",
              " 129,\n",
              " 123,\n",
              " 98,\n",
              " 91,\n",
              " 102,\n",
              " 123,\n",
              " 117,\n",
              " 121,\n",
              " 106,\n",
              " 113,\n",
              " 117,\n",
              " 112,\n",
              " 112,\n",
              " 114,\n",
              " 90,\n",
              " 96,\n",
              " 103,\n",
              " 113,\n",
              " 123,\n",
              " 90,\n",
              " 103,\n",
              " 117,\n",
              " 114,\n",
              " 127,\n",
              " 121,\n",
              " 127,\n",
              " 99,\n",
              " 99,\n",
              " 121,\n",
              " 125,\n",
              " 110,\n",
              " 122,\n",
              " 110,\n",
              " 106,\n",
              " 116,\n",
              " 124,\n",
              " 91,\n",
              " 112,\n",
              " 99,\n",
              " 112,\n",
              " 98,\n",
              " 120,\n",
              " 129,\n",
              " 111,\n",
              " 98,\n",
              " 118,\n",
              " 109,\n",
              " 90,\n",
              " 117,\n",
              " 94,\n",
              " 128,\n",
              " 110,\n",
              " 110,\n",
              " 110,\n",
              " 116,\n",
              " 113,\n",
              " 98,\n",
              " 97,\n",
              " 108,\n",
              " 113,\n",
              " 114,\n",
              " 111,\n",
              " 114,\n",
              " 127,\n",
              " 90,\n",
              " 112,\n",
              " 129,\n",
              " 103,\n",
              " 106,\n",
              " 94,\n",
              " 104,\n",
              " 107,\n",
              " 115,\n",
              " 109,\n",
              " 94,\n",
              " 119,\n",
              " 102,\n",
              " 117,\n",
              " 109,\n",
              " 91,\n",
              " 109,\n",
              " 110,\n",
              " 130,\n",
              " 91,\n",
              " 119,\n",
              " 106,\n",
              " 106,\n",
              " 94,\n",
              " 100,\n",
              " 129,\n",
              " 122]"
            ]
          },
          "metadata": {},
          "execution_count": 20
        }
      ],
      "source": [
        "# Q=1 Generate a list of 100 integers containing values between 90 to 130 and store it in the variable `int_list`.\n",
        "\n",
        "import random\n",
        "import statistics\n",
        "import numpy as np\n",
        "import matplotlib.pyplot as plt\n",
        "import seaborn as sns\n",
        "from scipy.stats import norm\n",
        "\n",
        "int_list  = [random.randint(90, 130) for _ in range(100)]\n",
        "int_list"
      ]
    },
    {
      "cell_type": "code",
      "source": [
        "# (i) Write a Python function to calculate the mean of a given list of numbers. Create a function to find the median of a list of numbers.\n",
        "\n",
        "def calculate_mean(data):\n",
        "\n",
        "    return statistics.mean(data)\n",
        "\n",
        "def calculate_median(data):\n",
        "    return statistics.median(data)\n",
        "\n",
        "mean = calculate_mean(int_list)\n",
        "median = calculate_median(int_list)\n",
        "print(f\"Mean: {mean}, Median: {median}\")"
      ],
      "metadata": {
        "colab": {
          "base_uri": "https://localhost:8080/"
        },
        "id": "48OZGj1JIczD",
        "outputId": "51186cfa-9d14-4100-8c30-51cab2ed8c57"
      },
      "execution_count": null,
      "outputs": [
        {
          "output_type": "stream",
          "name": "stdout",
          "text": [
            "Mean: 110.37, Median: 110.0\n"
          ]
        }
      ]
    },
    {
      "cell_type": "code",
      "source": [
        "# (ii) Develop a program to compute the mode of a list of integers.\n",
        "\n",
        "def calculate_mode(data):\n",
        "    counts = {}\n",
        "    for x in data:\n",
        "        counts[x] = counts.get(x, 0) + 1\n",
        "    max_count = 0\n",
        "    modes = []\n",
        "    for x, count in counts.items():\n",
        "        if count > max_count:\n",
        "            modes = [x]\n",
        "            max_count = count\n",
        "        elif count == max_count:\n",
        "            modes.append(x)\n",
        "    return modes\n",
        "\n",
        "mode = calculate_mode(int_list)\n",
        "print(f\"Mode(s): {mode}\")"
      ],
      "metadata": {
        "id": "U7VXidiMIc1w",
        "colab": {
          "base_uri": "https://localhost:8080/"
        },
        "outputId": "8c431bab-b198-4282-9bda-13f5d7cf49a9"
      },
      "execution_count": 10,
      "outputs": [
        {
          "output_type": "stream",
          "name": "stdout",
          "text": [
            "Mode(s): [116]\n"
          ]
        }
      ]
    },
    {
      "cell_type": "code",
      "source": [
        "# (iii) Implement a function to calculate the weighted mean of a list of values and their corresponding weights.\n",
        "\n",
        "weights = [1] * len(int_list)\n",
        "weighted_mean = sum(x * w for x, w in zip(int_list, weights)) / sum(weights)\n",
        "print(f\"Weighted Mean (equal weights): {weighted_mean}\")"
      ],
      "metadata": {
        "id": "zY5OHq0dIc4C",
        "colab": {
          "base_uri": "https://localhost:8080/"
        },
        "outputId": "7603d773-6e7b-442e-d622-d213dafc9fc0"
      },
      "execution_count": 11,
      "outputs": [
        {
          "output_type": "stream",
          "name": "stdout",
          "text": [
            "Weighted Mean (equal weights): 110.37\n"
          ]
        }
      ]
    },
    {
      "cell_type": "code",
      "source": [
        "# (iv) Write a Python function to find the geometric mean of a list of positive numbers.\n",
        "\n",
        "def geometric_mean(data):\n",
        "    product = 1\n",
        "    for x in data:\n",
        "        product *= x\n",
        "    return product**(1/len(data))\n",
        "\n",
        "geo_mean = geometric_mean(int_list)\n",
        "print(f\"Geometric Mean: {geo_mean}\")"
      ],
      "metadata": {
        "id": "UU-pblxIIc6a",
        "colab": {
          "base_uri": "https://localhost:8080/"
        },
        "outputId": "7c6a39e3-fbc1-4318-c50f-8561a66be58b"
      },
      "execution_count": 12,
      "outputs": [
        {
          "output_type": "stream",
          "name": "stdout",
          "text": [
            "Geometric Mean: 109.74113689809134\n"
          ]
        }
      ]
    },
    {
      "cell_type": "code",
      "source": [
        "# (v) Create a program to calculate the harmonic mean of a list of values.\n",
        "\n",
        "harmonic_mean = len(int_list) / sum(1/x for x in int_list)\n",
        "print(f\"Harmonic Mean: {harmonic_mean}\")"
      ],
      "metadata": {
        "id": "Fm1XVd0NIc8u",
        "colab": {
          "base_uri": "https://localhost:8080/"
        },
        "outputId": "c166ea3b-55e6-4eab-b48b-9f31a7e82ec1"
      },
      "execution_count": 13,
      "outputs": [
        {
          "output_type": "stream",
          "name": "stdout",
          "text": [
            "Harmonic Mean: 109.11134814841398\n"
          ]
        }
      ]
    },
    {
      "cell_type": "code",
      "source": [
        "# (vi) Build a function to determine the midrange of a list of numbers (average of the minimum and maximum).\n",
        "\n",
        "def calculate_midrange(data):\n",
        "    return (min(data) + max(data)) / 2\n",
        "\n",
        "midrange = calculate_midrange(int_list)\n",
        "print(f\"Midrange: {midrange}\")"
      ],
      "metadata": {
        "id": "obJQCJqLIc-8",
        "colab": {
          "base_uri": "https://localhost:8080/"
        },
        "outputId": "1602a4b0-9983-44ba-e540-da94bb78a509"
      },
      "execution_count": 14,
      "outputs": [
        {
          "output_type": "stream",
          "name": "stdout",
          "text": [
            "Midrange: 110.0\n"
          ]
        }
      ]
    },
    {
      "cell_type": "code",
      "source": [
        "#(vii) Implement a Python program to find the trimmed mean of a list, excluding a certain percentage of outliers.\n",
        "\n",
        "def trimmed_mean(data, percentage):\n",
        "    n = len(data)\n",
        "    k = int(n * percentage / 2)\n",
        "    sorted_data = sorted(data)\n",
        "    trimmed_data = sorted_data[k:n - k]\n",
        "    return sum(trimmed_data) / len(trimmed_data)\n",
        "\n",
        "trimmed_mean = trimmed_mean(int_list, 0.1)\n",
        "print(f\"Trimmed Mean: {trimmed_mean}\")"
      ],
      "metadata": {
        "id": "OEn8BJQTIdBM",
        "colab": {
          "base_uri": "https://localhost:8080/"
        },
        "outputId": "28748dea-efed-413b-de14-df8df22b38fd"
      },
      "execution_count": 16,
      "outputs": [
        {
          "output_type": "stream",
          "name": "stdout",
          "text": [
            "Trimmed Mean: 110.34444444444445\n"
          ]
        }
      ]
    },
    {
      "cell_type": "code",
      "source": [
        "# Q-2. Generate a list of 500 integers containing values between 200 to 300 and store it in the variable `int_list2`.\n",
        "\n",
        "int_list2 = [random.randint(200, 300) for _ in range(500)]\n",
        "int_list2"
      ],
      "metadata": {
        "id": "C1IH9fWoIdDf",
        "colab": {
          "base_uri": "https://localhost:8080/"
        },
        "outputId": "2a48caef-17d7-4c4f-f809-7f40db0b2fda"
      },
      "execution_count": 19,
      "outputs": [
        {
          "output_type": "execute_result",
          "data": {
            "text/plain": [
              "[208,\n",
              " 228,\n",
              " 263,\n",
              " 226,\n",
              " 219,\n",
              " 211,\n",
              " 290,\n",
              " 258,\n",
              " 212,\n",
              " 236,\n",
              " 221,\n",
              " 209,\n",
              " 221,\n",
              " 278,\n",
              " 275,\n",
              " 250,\n",
              " 214,\n",
              " 263,\n",
              " 215,\n",
              " 236,\n",
              " 251,\n",
              " 219,\n",
              " 244,\n",
              " 267,\n",
              " 258,\n",
              " 276,\n",
              " 248,\n",
              " 271,\n",
              " 205,\n",
              " 215,\n",
              " 216,\n",
              " 215,\n",
              " 240,\n",
              " 279,\n",
              " 242,\n",
              " 282,\n",
              " 255,\n",
              " 284,\n",
              " 251,\n",
              " 256,\n",
              " 289,\n",
              " 211,\n",
              " 283,\n",
              " 202,\n",
              " 290,\n",
              " 262,\n",
              " 298,\n",
              " 200,\n",
              " 243,\n",
              " 259,\n",
              " 277,\n",
              " 275,\n",
              " 285,\n",
              " 223,\n",
              " 258,\n",
              " 209,\n",
              " 243,\n",
              " 240,\n",
              " 211,\n",
              " 251,\n",
              " 241,\n",
              " 209,\n",
              " 270,\n",
              " 295,\n",
              " 221,\n",
              " 220,\n",
              " 269,\n",
              " 209,\n",
              " 209,\n",
              " 231,\n",
              " 206,\n",
              " 229,\n",
              " 227,\n",
              " 202,\n",
              " 264,\n",
              " 233,\n",
              " 221,\n",
              " 245,\n",
              " 269,\n",
              " 209,\n",
              " 236,\n",
              " 206,\n",
              " 247,\n",
              " 247,\n",
              " 295,\n",
              " 292,\n",
              " 219,\n",
              " 276,\n",
              " 294,\n",
              " 292,\n",
              " 215,\n",
              " 244,\n",
              " 234,\n",
              " 270,\n",
              " 295,\n",
              " 265,\n",
              " 294,\n",
              " 248,\n",
              " 220,\n",
              " 266,\n",
              " 296,\n",
              " 207,\n",
              " 288,\n",
              " 224,\n",
              " 263,\n",
              " 207,\n",
              " 239,\n",
              " 206,\n",
              " 241,\n",
              " 250,\n",
              " 257,\n",
              " 275,\n",
              " 277,\n",
              " 241,\n",
              " 226,\n",
              " 223,\n",
              " 294,\n",
              " 231,\n",
              " 254,\n",
              " 274,\n",
              " 271,\n",
              " 234,\n",
              " 228,\n",
              " 296,\n",
              " 215,\n",
              " 275,\n",
              " 293,\n",
              " 269,\n",
              " 276,\n",
              " 213,\n",
              " 222,\n",
              " 252,\n",
              " 224,\n",
              " 286,\n",
              " 285,\n",
              " 278,\n",
              " 203,\n",
              " 263,\n",
              " 217,\n",
              " 223,\n",
              " 203,\n",
              " 244,\n",
              " 219,\n",
              " 292,\n",
              " 287,\n",
              " 300,\n",
              " 299,\n",
              " 248,\n",
              " 260,\n",
              " 295,\n",
              " 221,\n",
              " 290,\n",
              " 205,\n",
              " 208,\n",
              " 274,\n",
              " 241,\n",
              " 275,\n",
              " 288,\n",
              " 200,\n",
              " 287,\n",
              " 291,\n",
              " 251,\n",
              " 286,\n",
              " 200,\n",
              " 290,\n",
              " 297,\n",
              " 258,\n",
              " 299,\n",
              " 205,\n",
              " 221,\n",
              " 266,\n",
              " 208,\n",
              " 212,\n",
              " 221,\n",
              " 288,\n",
              " 224,\n",
              " 250,\n",
              " 274,\n",
              " 200,\n",
              " 230,\n",
              " 252,\n",
              " 232,\n",
              " 266,\n",
              " 203,\n",
              " 200,\n",
              " 278,\n",
              " 262,\n",
              " 295,\n",
              " 246,\n",
              " 280,\n",
              " 240,\n",
              " 300,\n",
              " 210,\n",
              " 296,\n",
              " 247,\n",
              " 268,\n",
              " 220,\n",
              " 260,\n",
              " 230,\n",
              " 243,\n",
              " 242,\n",
              " 255,\n",
              " 218,\n",
              " 264,\n",
              " 253,\n",
              " 277,\n",
              " 213,\n",
              " 296,\n",
              " 270,\n",
              " 297,\n",
              " 222,\n",
              " 234,\n",
              " 214,\n",
              " 252,\n",
              " 228,\n",
              " 281,\n",
              " 242,\n",
              " 276,\n",
              " 278,\n",
              " 275,\n",
              " 273,\n",
              " 226,\n",
              " 205,\n",
              " 228,\n",
              " 215,\n",
              " 258,\n",
              " 250,\n",
              " 277,\n",
              " 224,\n",
              " 248,\n",
              " 254,\n",
              " 233,\n",
              " 300,\n",
              " 202,\n",
              " 219,\n",
              " 297,\n",
              " 288,\n",
              " 211,\n",
              " 260,\n",
              " 210,\n",
              " 220,\n",
              " 276,\n",
              " 267,\n",
              " 260,\n",
              " 270,\n",
              " 234,\n",
              " 214,\n",
              " 234,\n",
              " 201,\n",
              " 209,\n",
              " 211,\n",
              " 291,\n",
              " 269,\n",
              " 217,\n",
              " 265,\n",
              " 255,\n",
              " 208,\n",
              " 252,\n",
              " 257,\n",
              " 265,\n",
              " 291,\n",
              " 267,\n",
              " 206,\n",
              " 206,\n",
              " 261,\n",
              " 228,\n",
              " 253,\n",
              " 264,\n",
              " 294,\n",
              " 283,\n",
              " 295,\n",
              " 273,\n",
              " 240,\n",
              " 225,\n",
              " 246,\n",
              " 284,\n",
              " 283,\n",
              " 242,\n",
              " 259,\n",
              " 225,\n",
              " 222,\n",
              " 257,\n",
              " 255,\n",
              " 202,\n",
              " 295,\n",
              " 264,\n",
              " 268,\n",
              " 233,\n",
              " 228,\n",
              " 227,\n",
              " 200,\n",
              " 204,\n",
              " 278,\n",
              " 283,\n",
              " 223,\n",
              " 214,\n",
              " 207,\n",
              " 232,\n",
              " 247,\n",
              " 298,\n",
              " 252,\n",
              " 219,\n",
              " 256,\n",
              " 273,\n",
              " 208,\n",
              " 265,\n",
              " 260,\n",
              " 250,\n",
              " 242,\n",
              " 286,\n",
              " 253,\n",
              " 276,\n",
              " 253,\n",
              " 223,\n",
              " 297,\n",
              " 210,\n",
              " 249,\n",
              " 275,\n",
              " 260,\n",
              " 223,\n",
              " 243,\n",
              " 276,\n",
              " 290,\n",
              " 207,\n",
              " 246,\n",
              " 247,\n",
              " 285,\n",
              " 279,\n",
              " 257,\n",
              " 202,\n",
              " 271,\n",
              " 239,\n",
              " 267,\n",
              " 299,\n",
              " 219,\n",
              " 244,\n",
              " 224,\n",
              " 220,\n",
              " 277,\n",
              " 232,\n",
              " 237,\n",
              " 299,\n",
              " 204,\n",
              " 200,\n",
              " 275,\n",
              " 262,\n",
              " 200,\n",
              " 288,\n",
              " 278,\n",
              " 299,\n",
              " 289,\n",
              " 203,\n",
              " 256,\n",
              " 279,\n",
              " 202,\n",
              " 273,\n",
              " 222,\n",
              " 263,\n",
              " 296,\n",
              " 238,\n",
              " 267,\n",
              " 255,\n",
              " 252,\n",
              " 259,\n",
              " 271,\n",
              " 200,\n",
              " 263,\n",
              " 247,\n",
              " 206,\n",
              " 208,\n",
              " 278,\n",
              " 232,\n",
              " 223,\n",
              " 272,\n",
              " 227,\n",
              " 225,\n",
              " 223,\n",
              " 239,\n",
              " 217,\n",
              " 298,\n",
              " 251,\n",
              " 211,\n",
              " 263,\n",
              " 294,\n",
              " 236,\n",
              " 210,\n",
              " 205,\n",
              " 296,\n",
              " 295,\n",
              " 201,\n",
              " 256,\n",
              " 212,\n",
              " 270,\n",
              " 240,\n",
              " 283,\n",
              " 259,\n",
              " 213,\n",
              " 202,\n",
              " 248,\n",
              " 217,\n",
              " 201,\n",
              " 252,\n",
              " 275,\n",
              " 209,\n",
              " 215,\n",
              " 248,\n",
              " 287,\n",
              " 210,\n",
              " 241,\n",
              " 210,\n",
              " 272,\n",
              " 251,\n",
              " 240,\n",
              " 230,\n",
              " 225,\n",
              " 292,\n",
              " 203,\n",
              " 228,\n",
              " 245,\n",
              " 240,\n",
              " 295,\n",
              " 289,\n",
              " 286,\n",
              " 216,\n",
              " 241,\n",
              " 202,\n",
              " 299,\n",
              " 234,\n",
              " 300,\n",
              " 237,\n",
              " 210,\n",
              " 278,\n",
              " 278,\n",
              " 217,\n",
              " 223,\n",
              " 208,\n",
              " 267,\n",
              " 295,\n",
              " 289,\n",
              " 231,\n",
              " 232,\n",
              " 224,\n",
              " 228,\n",
              " 210,\n",
              " 247,\n",
              " 238,\n",
              " 203,\n",
              " 249,\n",
              " 252,\n",
              " 265,\n",
              " 216,\n",
              " 218,\n",
              " 269,\n",
              " 238,\n",
              " 297,\n",
              " 233,\n",
              " 207,\n",
              " 211,\n",
              " 238,\n",
              " 209,\n",
              " 212,\n",
              " 262,\n",
              " 233,\n",
              " 205,\n",
              " 227,\n",
              " 207,\n",
              " 226,\n",
              " 291,\n",
              " 277,\n",
              " 285,\n",
              " 277,\n",
              " 203,\n",
              " 213,\n",
              " 270,\n",
              " 256,\n",
              " 300,\n",
              " 247,\n",
              " 248,\n",
              " 276,\n",
              " 240,\n",
              " 247,\n",
              " 210,\n",
              " 259,\n",
              " 249,\n",
              " 250,\n",
              " 227,\n",
              " 224,\n",
              " 208,\n",
              " 294,\n",
              " 277,\n",
              " 286,\n",
              " 262,\n",
              " 220,\n",
              " 259,\n",
              " 271,\n",
              " 206,\n",
              " 216,\n",
              " 296,\n",
              " 210,\n",
              " 279]"
            ]
          },
          "metadata": {},
          "execution_count": 19
        }
      ]
    },
    {
      "cell_type": "code",
      "source": [
        "# (i) Compare the given list of visualization for the given data:\n",
        "\n",
        "#    1. Frequency & Gaussian distribution\n",
        "\n",
        "np.random.seed(42)\n",
        "int_list2 = np.random.randint(200, 301, 500)\n",
        "mu = np.mean(int_list2)\n",
        "sigma = np.std(int_list2)\n",
        "x = np.linspace(mu - 3*sigma, mu + 3*sigma, 100)\n",
        "plt.figure(figsize=(15, 5))\n",
        "plt.hist(int_list2, bins=20, density=True, alpha=0.6, color='blue', label='Frequency (Histogram)')\n",
        "plt.plot(x, norm.pdf(x, mu, sigma), color='red', linewidth=2, label='Gaussian Distribution')\n",
        "plt.title('Frequency vs Gaussian Distribution', fontsize=14)\n",
        "plt.xlabel('Values', fontsize=12)\n",
        "plt.ylabel('Density', fontsize=12)\n",
        "plt.legend(fontsize=12)\n",
        "plt.show()"
      ],
      "metadata": {
        "id": "15Gl5PnyIdFn",
        "colab": {
          "base_uri": "https://localhost:8080/",
          "height": 492
        },
        "outputId": "acf1dd88-e4ce-4f5d-8f13-a75928dcaf68"
      },
      "execution_count": 84,
      "outputs": [
        {
          "output_type": "display_data",
          "data": {
            "text/plain": [
              "<Figure size 1500x500 with 1 Axes>"
            ],
            "image/png": "[encoded data removed]"
          },
          "metadata": {}
        }
      ]
    },
    {
      "cell_type": "code",
      "source": [
        "#    2. Frequency smoothened KDE plot\n",
        "\n",
        "plt.subplot(1, 3, 2)\n",
        "sns.kdeplot(int_list2, bw_adjust=0.5, label='KDE')\n",
        "plt.plot(x, norm.pdf(x, mu, sigma), 'r', label='Gaussian')\n",
        "plt.xlabel('Value')\n",
        "plt.ylabel('Density')\n",
        "plt.title('Smoothened KDE Plot')"
      ],
      "metadata": {
        "colab": {
          "base_uri": "https://localhost:8080/",
          "height": 489
        },
        "collapsed": true,
        "id": "kpKQLqLoO2BX",
        "outputId": "7bfbda22-83f9-4f81-c9a6-4faf12dbbafa"
      },
      "execution_count": 24,
      "outputs": [
        {
          "output_type": "execute_result",
          "data": {
            "text/plain": [
              "Text(0.5, 1.0, 'Smoothened KDE Plot')"
            ]
          },
          "metadata": {},
          "execution_count": 24
        },
        {
          "output_type": "display_data",
          "data": {
            "text/plain": [
              "<Figure size 640x480 with 1 Axes>"
            ],
            "image/png": "[encoded data removed]"
          },
          "metadata": {}
        }
      ]
    },
    {
      "cell_type": "code",
      "source": [
        "#    3. Gaussian distribution & smoothened KDE plot\n",
        "\n",
        "plt.subplot(1, 3, 3)\n",
        "sns.kdeplot(int_list2, bw_adjust=0.5, label='KDE')\n",
        "plt.plot(x, norm.pdf(x, mu, sigma), 'r', label='Gaussian')"
      ],
      "metadata": {
        "colab": {
          "base_uri": "https://localhost:8080/",
          "height": 447
        },
        "id": "tCuvujj8PIBI",
        "outputId": "c869d51d-4079-4c09-a6d3-86cb6acaadab"
      },
      "execution_count": 25,
      "outputs": [
        {
          "output_type": "execute_result",
          "data": {
            "text/plain": [
              "[<matplotlib.lines.Line2D at 0x7a7ba0092f50>]"
            ]
          },
          "metadata": {},
          "execution_count": 25
        },
        {
          "output_type": "display_data",
          "data": {
            "text/plain": [
              "<Figure size 640x480 with 1 Axes>"
            ],
            "image/png": "[encoded data removed]"
          },
          "metadata": {}
        }
      ]
    },
    {
      "cell_type": "code",
      "source": [
        "# (ii) Write a Python function to calculate the range of a given list of numbers.\n",
        "\n",
        "def calculate_range(data):\n",
        "  return max(data) - min(data)\n",
        "\n",
        "range_data = calculate_range(int_list2)\n",
        "print(f\"Range: {range_data}\")"
      ],
      "metadata": {
        "id": "q7ISdb-8IdIV",
        "colab": {
          "base_uri": "https://localhost:8080/"
        },
        "outputId": "3acde414-7755-4647-851c-bfb2e0408ab1"
      },
      "execution_count": 26,
      "outputs": [
        {
          "output_type": "stream",
          "name": "stdout",
          "text": [
            "Range: 100\n"
          ]
        }
      ]
    },
    {
      "cell_type": "code",
      "source": [
        "# (iii) Create a program to find the variance and standard deviation of a list of numbers.\n",
        "\n",
        "def calculate_variance(data):\n",
        "    mean = calculate_mean(data)\n",
        "    squared_diffs = [(x - mean)**2 for x in data]\n",
        "    return sum(squared_diffs) / len(data)\n",
        "\n",
        "variance = calculate_variance(int_list2)\n",
        "stdev = variance**0.5\n",
        "print(f\"Variance: {variance}, Standard Deviation: {stdev}\")"
      ],
      "metadata": {
        "id": "A0_HqZTwIdKb",
        "colab": {
          "base_uri": "https://localhost:8080/"
        },
        "outputId": "36489871-eda5-4493-f5b7-7525c9198bea"
      },
      "execution_count": 27,
      "outputs": [
        {
          "output_type": "stream",
          "name": "stdout",
          "text": [
            "Variance: 904.3739039999992, Standard Deviation: 30.07281004495588\n"
          ]
        }
      ]
    },
    {
      "cell_type": "code",
      "source": [
        "# (iv) Implement a function to compute the interquartile range (IQR) of a list of values.\n",
        "\n",
        "sorted_data2 = sorted(int_list2)\n",
        "n2 = len(sorted_data2)\n",
        "q1 = sorted_data2[n2//4]\n",
        "q3 = sorted_data2[3*(n2//4)]\n",
        "iqr = q3 - q1\n",
        "print(f\"Interquartile Range (IQR): {iqr}\")"
      ],
      "metadata": {
        "id": "5L21YAexIdNC",
        "colab": {
          "base_uri": "https://localhost:8080/"
        },
        "outputId": "24f06444-368f-47c0-dcca-362bb3908ddb"
      },
      "execution_count": 28,
      "outputs": [
        {
          "output_type": "stream",
          "name": "stdout",
          "text": [
            "Interquartile Range (IQR): 54\n"
          ]
        }
      ]
    },
    {
      "cell_type": "code",
      "source": [
        "# (v) Build a program to calculate the coefficient of variation for a dataset.\n",
        "\n",
        "coeff_var = (stdev / mean) * 100\n",
        "print(f\"Coefficient of Variation: {coeff_var:.2f}%\")"
      ],
      "metadata": {
        "id": "wqKRlMt6IdQF",
        "colab": {
          "base_uri": "https://localhost:8080/"
        },
        "outputId": "bd40bb08-2f12-490e-ebcf-781768b517cd"
      },
      "execution_count": 29,
      "outputs": [
        {
          "output_type": "stream",
          "name": "stdout",
          "text": [
            "Coefficient of Variation: 27.25%\n"
          ]
        }
      ]
    },
    {
      "cell_type": "code",
      "source": [
        "# (vi) Write a Python function to find the mean absolute deviation (MAD) of a list of numbers.\n",
        "\n",
        "def mad(data):\n",
        "    mean = calculate_mean(data)\n",
        "    absolute_deviations = [abs(x - mean) for x in data]\n",
        "    return sum(absolute_deviations) / len(data)\n",
        "\n",
        "mad_val = mad(int_list2)\n",
        "print(f\"Mean Absolute Deviation (MAD): {mad_val}\")"
      ],
      "metadata": {
        "id": "aeRr2yeqIdSh",
        "colab": {
          "base_uri": "https://localhost:8080/"
        },
        "outputId": "7b28805f-d522-44d7-bb25-e369b55560f4"
      },
      "execution_count": 30,
      "outputs": [
        {
          "output_type": "stream",
          "name": "stdout",
          "text": [
            "Mean Absolute Deviation (MAD): 26.128000000000004\n"
          ]
        }
      ]
    },
    {
      "cell_type": "code",
      "source": [
        "# (vii) Create a program to calculate the quartile deviation of a list of values.\n",
        "\n",
        "quartile_deviation = iqr / 2\n",
        "print(f\"Quartile Deviation: {quartile_deviation}\")"
      ],
      "metadata": {
        "id": "Yl97VKU8IdVo",
        "colab": {
          "base_uri": "https://localhost:8080/"
        },
        "outputId": "e6d6db6b-8eb8-4457-a0db-0eb6cdb2a23b"
      },
      "execution_count": 31,
      "outputs": [
        {
          "output_type": "stream",
          "name": "stdout",
          "text": [
            "Quartile Deviation: 27.0\n"
          ]
        }
      ]
    },
    {
      "cell_type": "code",
      "source": [
        "# (viii) Implement a function to find the range-based coefficient of dispersion for a dataset.\n",
        "\n",
        "range_coeff_disp = calculate_range(int_list2) / calculate_mean(int_list2)\n",
        "print(f\"Range-based Coefficient of Dispersion: {range_coeff_disp}\")"
      ],
      "metadata": {
        "id": "DIQuCYLsI-eO",
        "colab": {
          "base_uri": "https://localhost:8080/"
        },
        "outputId": "579e31fc-f660-47fe-8aee-79d8083413f6"
      },
      "execution_count": 32,
      "outputs": [
        {
          "output_type": "stream",
          "name": "stdout",
          "text": [
            "Range-based Coefficient of Dispersion: 0.4039359519154643\n"
          ]
        }
      ]
    },
    {
      "cell_type": "code",
      "source": [
        "# Q-3.  Write a Python class representing a discrete random variable with methods to calculate its expected value and variance.\n",
        "\n",
        "class DiscreteRandomVariable:\n",
        "    def __init__(self, outcomes, probabilities):\n",
        "        self.outcomes = outcomes\n",
        "        self.probabilities = probabilities\n",
        "\n",
        "    def expected_value(self):\n",
        "        return sum(o * p for o, p in zip(self.outcomes, self.probabilities))\n",
        "\n",
        "    def variance(self):\n",
        "        mean = self.expected_value()\n",
        "        return sum(p * (o - mean) ** 2 for o, p in zip(self.outcomes, self.probabilities))\n",
        "\n",
        "outcomes = [1, 2, 3, 4, 5, 6]\n",
        "probabilities = [1/6] * 6\n",
        "dice = DiscreteRandomVariable(outcomes, probabilities)\n",
        "print(\"Expected Value:\", dice.expected_value())\n",
        "print(\"Variance:\", dice.variance())"
      ],
      "metadata": {
        "colab": {
          "base_uri": "https://localhost:8080/"
        },
        "id": "GTYLsf-RQP-u",
        "outputId": "8df16d42-be4c-4631-b037-680f9e6f05a1"
      },
      "execution_count": 34,
      "outputs": [
        {
          "output_type": "stream",
          "name": "stdout",
          "text": [
            "Expected Value: 3.5\n",
            "Variance: 2.9166666666666665\n"
          ]
        }
      ]
    },
    {
      "cell_type": "code",
      "source": [
        "# Q-4 Implement a program to simulate the rolling of a fair six-sided die and calculate the expected value and variance of the outcomes.\n",
        "\n",
        "import random\n",
        "\n",
        "def simulate_die_rolls(n):\n",
        "    rolls = [random.randint(1, 6) for _ in range(n)]\n",
        "    mean = sum(rolls) / n\n",
        "    variance = sum((x - mean) ** 2 for x in rolls) / n\n",
        "    return mean, variance\n",
        "\n",
        "mean, variance = simulate_die_rolls(1000)\n",
        "print(\"Expected Value (Mean):\", mean)\n",
        "print(\"Variance:\", variance)"
      ],
      "metadata": {
        "colab": {
          "base_uri": "https://localhost:8080/"
        },
        "id": "cSjj8CxZQQHD",
        "outputId": "168108a6-1fa7-48e0-99ec-6a1d1cd72b91"
      },
      "execution_count": 35,
      "outputs": [
        {
          "output_type": "stream",
          "name": "stdout",
          "text": [
            "Expected Value (Mean): 3.589\n",
            "Variance: 2.9560790000000123\n"
          ]
        }
      ]
    },
    {
      "cell_type": "code",
      "source": [
        "# Q-5. Create a Python function to generate random samples from a given probability distribution (e.g., binomial, Poisson) and calculate their mean and variance.\n",
        "\n",
        "def generate_binomial_samples(n, p, size):\n",
        "    samples = np.random.binomial(n, p, size)\n",
        "    mean = np.mean(samples)\n",
        "    variance = np.var(samples)\n",
        "    return mean, variance\n",
        "\n",
        "mean, variance = generate_binomial_samples(10, 0.5, 1000)\n",
        "print(\"Mean:\", mean)\n",
        "print(\"Variance:\", variance)"
      ],
      "metadata": {
        "colab": {
          "base_uri": "https://localhost:8080/"
        },
        "id": "jCss627YQQJf",
        "outputId": "edf7af60-5d3f-4a46-cf1b-cbf23a30d477"
      },
      "execution_count": 36,
      "outputs": [
        {
          "output_type": "stream",
          "name": "stdout",
          "text": [
            "Mean: 4.943\n",
            "Variance: 2.391751\n"
          ]
        }
      ]
    },
    {
      "cell_type": "code",
      "source": [
        "# Q-6. Write a Python script to generate random numbers from a Gaussian (normal) distribution and compute the mean, variance, and standard deviation of the samples.\n",
        "\n",
        "def generate_gaussian_samples(mean, std_dev, size):\n",
        "    samples = np.random.normal(mean, std_dev, size)\n",
        "    return np.mean(samples), np.var(samples), np.std(samples)\n",
        "\n",
        "mean, variance, std_dev = generate_gaussian_samples(0, 1, 1000)\n",
        "print(\"Mean:\", mean)\n",
        "print(\"Variance:\", variance)\n",
        "print(\"Standard Deviation:\", std_dev)"
      ],
      "metadata": {
        "colab": {
          "base_uri": "https://localhost:8080/"
        },
        "id": "JFxPYwscQQLx",
        "outputId": "55959363-d991-49e5-8a53-7d95c8fd0437"
      },
      "execution_count": 37,
      "outputs": [
        {
          "output_type": "stream",
          "name": "stdout",
          "text": [
            "Mean: -0.005081727896329514\n",
            "Variance: 0.9938863632708558\n",
            "Standard Deviation: 0.9969384952296986\n"
          ]
        }
      ]
    },
    {
      "cell_type": "code",
      "source": [
        "# Q-7. Use seaborn library to load tips dataset. Find the following from the dataset for the columns total_bill and tip`:\n",
        "\n",
        "tips = sns.load_dataset('tips')\n",
        "tips"
      ],
      "metadata": {
        "colab": {
          "base_uri": "https://localhost:8080/",
          "height": 423
        },
        "collapsed": true,
        "id": "9dVC4kNAT9cd",
        "outputId": "cb20bcf7-c693-4ce8-b983-d2537c996144"
      },
      "execution_count": 39,
      "outputs": [
        {
          "output_type": "execute_result",
          "data": {
            "text/plain": [
              "     total_bill   tip     sex smoker   day    time  size\n",
              "0         16.99  1.01  Female     No   Sun  Dinner     2\n",
              "1         10.34  1.66    Male     No   Sun  Dinner     3\n",
              "2         21.01  3.50    Male     No   Sun  Dinner     3\n",
              "3         23.68  3.31    Male     No   Sun  Dinner     2\n",
              "4         24.59  3.61  Female     No   Sun  Dinner     4\n",
              "..          ...   ...     ...    ...   ...     ...   ...\n",
              "239       29.03  5.92    Male     No   Sat  Dinner     3\n",
              "240       27.18  2.00  Female    Yes   Sat  Dinner     2\n",
              "241       22.67  2.00    Male    Yes   Sat  Dinner     2\n",
              "242       17.82  1.75    Male     No   Sat  Dinner     2\n",
              "243       18.78  3.00  Female     No  Thur  Dinner     2\n",
              "\n",
              "[244 rows x 7 columns]"
            ],
            "text/html": [
              "\n",
              "  <div id=\"df-4a98c7c4-6cad-4e92-9651-42dff02bf3ec\" class=\"colab-df-container\">\n",
              "    <div>\n",
              "<style scoped>\n",
              "    .dataframe tbody tr th:only-of-type {\n",
              "        vertical-align: middle;\n",
              "    }\n",
              "\n",
              "    .dataframe tbody tr th {\n",
              "        vertical-align: top;\n",
              "    }\n",
              "\n",
              "    .dataframe thead th {\n",
              "        text-align: right;\n",
              "    }\n",
              "</style>\n",
              "<table border=\"1\" class=\"dataframe\">\n",
              "  <thead>\n",
              "    <tr style=\"text-align: right;\">\n",
              "      <th></th>\n",
              "      <th>total_bill</th>\n",
              "      <th>tip</th>\n",
              "      <th>sex</th>\n",
              "      <th>smoker</th>\n",
              "      <th>day</th>\n",
              "      <th>time</th>\n",
              "      <th>size</th>\n",
              "    </tr>\n",
              "  </thead>\n",
              "  <tbody>\n",
              "    <tr>\n",
              "      <th>0</th>\n",
              "      <td>16.99</td>\n",
              "      <td>1.01</td>\n",
              "      <td>Female</td>\n",
              "      <td>No</td>\n",
              "      <td>Sun</td>\n",
              "      <td>Dinner</td>\n",
              "      <td>2</td>\n",
              "    </tr>\n",
              "    <tr>\n",
              "      <th>1</th>\n",
              "      <td>10.34</td>\n",
              "      <td>1.66</td>\n",
              "      <td>Male</td>\n",
              "      <td>No</td>\n",
              "      <td>Sun</td>\n",
              "      <td>Dinner</td>\n",
              "      <td>3</td>\n",
              "    </tr>\n",
              "    <tr>\n",
              "      <th>2</th>\n",
              "      <td>21.01</td>\n",
              "      <td>3.50</td>\n",
              "      <td>Male</td>\n",
              "      <td>No</td>\n",
              "      <td>Sun</td>\n",
              "      <td>Dinner</td>\n",
              "      <td>3</td>\n",
              "    </tr>\n",
              "    <tr>\n",
              "      <th>3</th>\n",
              "      <td>23.68</td>\n",
              "      <td>3.31</td>\n",
              "      <td>Male</td>\n",
              "      <td>No</td>\n",
              "      <td>Sun</td>\n",
              "      <td>Dinner</td>\n",
              "      <td>2</td>\n",
              "    </tr>\n",
              "    <tr>\n",
              "      <th>4</th>\n",
              "      <td>24.59</td>\n",
              "      <td>3.61</td>\n",
              "      <td>Female</td>\n",
              "      <td>No</td>\n",
              "      <td>Sun</td>\n",
              "      <td>Dinner</td>\n",
              "      <td>4</td>\n",
              "    </tr>\n",
              "    <tr>\n",
              "      <th>...</th>\n",
              "      <td>...</td>\n",
              "      <td>...</td>\n",
              "      <td>...</td>\n",
              "      <td>...</td>\n",
              "      <td>...</td>\n",
              "      <td>...</td>\n",
              "      <td>...</td>\n",
              "    </tr>\n",
              "    <tr>\n",
              "      <th>239</th>\n",
              "      <td>29.03</td>\n",
              "      <td>5.92</td>\n",
              "      <td>Male</td>\n",
              "      <td>No</td>\n",
              "      <td>Sat</td>\n",
              "      <td>Dinner</td>\n",
              "      <td>3</td>\n",
              "    </tr>\n",
              "    <tr>\n",
              "      <th>240</th>\n",
              "      <td>27.18</td>\n",
              "      <td>2.00</td>\n",
              "      <td>Female</td>\n",
              "      <td>Yes</td>\n",
              "      <td>Sat</td>\n",
              "      <td>Dinner</td>\n",
              "      <td>2</td>\n",
              "    </tr>\n",
              "    <tr>\n",
              "      <th>241</th>\n",
              "      <td>22.67</td>\n",
              "      <td>2.00</td>\n",
              "      <td>Male</td>\n",
              "      <td>Yes</td>\n",
              "      <td>Sat</td>\n",
              "      <td>Dinner</td>\n",
              "      <td>2</td>\n",
              "    </tr>\n",
              "    <tr>\n",
              "      <th>242</th>\n",
              "      <td>17.82</td>\n",
              "      <td>1.75</td>\n",
              "      <td>Male</td>\n",
              "      <td>No</td>\n",
              "      <td>Sat</td>\n",
              "      <td>Dinner</td>\n",
              "      <td>2</td>\n",
              "    </tr>\n",
              "    <tr>\n",
              "      <th>243</th>\n",
              "      <td>18.78</td>\n",
              "      <td>3.00</td>\n",
              "      <td>Female</td>\n",
              "      <td>No</td>\n",
              "      <td>Thur</td>\n",
              "      <td>Dinner</td>\n",
              "      <td>2</td>\n",
              "    </tr>\n",
              "  </tbody>\n",
              "</table>\n",
              "<p>244 rows × 7 columns</p>\n",
              "</div>\n",
              "    <div class=\"colab-df-buttons\">\n",
              "\n",
              "  <div class=\"colab-df-container\">\n",
              "    <button class=\"colab-df-convert\" onclick=\"convertToInteractive('df-4a98c7c4-6cad-4e92-9651-42dff02bf3ec')\"\n",
              "            title=\"Convert this dataframe to an interactive table.\"\n",
              "            style=\"display:none;\">\n",
              "\n",
              "  <svg xmlns=\"http://www.w3.org/2000/svg\" height=\"24px\" viewBox=\"0 -960 960 960\">\n",
              "    <path d=\"M120-120v-720h720v720H120Zm60-500h600v-160H180v160Zm220 220h160v-160H400v160Zm0 220h160v-160H400v160ZM180-400h160v-160H180v160Zm440 0h160v-160H620v160ZM180-180h160v-160H180v160Zm440 0h160v-160H620v160Z\"/>\n",
              "  </svg>\n",
              "    </button>\n",
              "\n",
              "  <style>\n",
              "    .colab-df-container {\n",
              "      display:flex;\n",
              "      gap: 12px;\n",
              "    }\n",
              "\n",
              "    .colab-df-convert {\n",
              "      background-color: #E8F0FE;\n",
              "      border: none;\n",
              "      border-radius: 50%;\n",
              "      cursor: pointer;\n",
              "      display: none;\n",
              "      fill: #1967D2;\n",
              "      height: 32px;\n",
              "      padding: 0 0 0 0;\n",
              "      width: 32px;\n",
              "    }\n",
              "\n",
              "    .colab-df-convert:hover {\n",
              "      background-color: #E2EBFA;\n",
              "      box-shadow: 0px 1px 2px rgba(60, 64, 67, 0.3), 0px 1px 3px 1px rgba(60, 64, 67, 0.15);\n",
              "      fill: #174EA6;\n",
              "    }\n",
              "\n",
              "    .colab-df-buttons div {\n",
              "      margin-bottom: 4px;\n",
              "    }\n",
              "\n",
              "    [theme=dark] .colab-df-convert {\n",
              "      background-color: #3B4455;\n",
              "      fill: #D2E3FC;\n",
              "    }\n",
              "\n",
              "    [theme=dark] .colab-df-convert:hover {\n",
              "      background-color: #434B5C;\n",
              "      box-shadow: 0px 1px 3px 1px rgba(0, 0, 0, 0.15);\n",
              "      filter: drop-shadow(0px 1px 2px rgba(0, 0, 0, 0.3));\n",
              "      fill: #FFFFFF;\n",
              "    }\n",
              "  </style>\n",
              "\n",
              "    <script>\n",
              "      const buttonEl =\n",
              "        document.querySelector('#df-4a98c7c4-6cad-4e92-9651-42dff02bf3ec button.colab-df-convert');\n",
              "      buttonEl.style.display =\n",
              "        google.colab.kernel.accessAllowed ? 'block' : 'none';\n",
              "\n",
              "      async function convertToInteractive(key) {\n",
              "        const element = document.querySelector('#df-4a98c7c4-6cad-4e92-9651-42dff02bf3ec');\n",
              "        const dataTable =\n",
              "          await google.colab.kernel.invokeFunction('convertToInteractive',\n",
              "                                                    [key], {});\n",
              "        if (!dataTable) return;\n",
              "\n",
              "        const docLinkHtml = 'Like what you see? Visit the ' +\n",
              "          '<a target=\"_blank\" href=https://colab.research.google.com/notebooks/data_table.ipynb>data table notebook</a>'\n",
              "          + ' to learn more about interactive tables.';\n",
              "        element.innerHTML = '';\n",
              "        dataTable['output_type'] = 'display_data';\n",
              "        await google.colab.output.renderOutput(dataTable, element);\n",
              "        const docLink = document.createElement('div');\n",
              "        docLink.innerHTML = docLinkHtml;\n",
              "        element.appendChild(docLink);\n",
              "      }\n",
              "    </script>\n",
              "  </div>\n",
              "\n",
              "\n",
              "<div id=\"df-ad7cd23b-fbaa-4bfb-9e98-9f573fee0e6a\">\n",
              "  <button class=\"colab-df-quickchart\" onclick=\"quickchart('df-ad7cd23b-fbaa-4bfb-9e98-9f573fee0e6a')\"\n",
              "            title=\"Suggest charts\"\n",
              "            style=\"display:none;\">\n",
              "\n",
              "<svg xmlns=\"http://www.w3.org/2000/svg\" height=\"24px\"viewBox=\"0 0 24 24\"\n",
              "     width=\"24px\">\n",
              "    <g>\n",
              "        <path d=\"M19 3H5c-1.1 0-2 .9-2 2v14c0 1.1.9 2 2 2h14c1.1 0 2-.9 2-2V5c0-1.1-.9-2-2-2zM9 17H7v-7h2v7zm4 0h-2V7h2v10zm4 0h-2v-4h2v4z\"/>\n",
              "    </g>\n",
              "</svg>\n",
              "  </button>\n",
              "\n",
              "<style>\n",
              "  .colab-df-quickchart {\n",
              "      --bg-color: #E8F0FE;\n",
              "      --fill-color: #1967D2;\n",
              "      --hover-bg-color: #E2EBFA;\n",
              "      --hover-fill-color: #174EA6;\n",
              "      --disabled-fill-color: #AAA;\n",
              "      --disabled-bg-color: #DDD;\n",
              "  }\n",
              "\n",
              "  [theme=dark] .colab-df-quickchart {\n",
              "      --bg-color: #3B4455;\n",
              "      --fill-color: #D2E3FC;\n",
              "      --hover-bg-color: #434B5C;\n",
              "      --hover-fill-color: #FFFFFF;\n",
              "      --disabled-bg-color: #3B4455;\n",
              "      --disabled-fill-color: #666;\n",
              "  }\n",
              "\n",
              "  .colab-df-quickchart {\n",
              "    background-color: var(--bg-color);\n",
              "    border: none;\n",
              "    border-radius: 50%;\n",
              "    cursor: pointer;\n",
              "    display: none;\n",
              "    fill: var(--fill-color);\n",
              "    height: 32px;\n",
              "    padding: 0;\n",
              "    width: 32px;\n",
              "  }\n",
              "\n",
              "  .colab-df-quickchart:hover {\n",
              "    background-color: var(--hover-bg-color);\n",
              "    box-shadow: 0 1px 2px rgba(60, 64, 67, 0.3), 0 1px 3px 1px rgba(60, 64, 67, 0.15);\n",
              "    fill: var(--button-hover-fill-color);\n",
              "  }\n",
              "\n",
              "  .colab-df-quickchart-complete:disabled,\n",
              "  .colab-df-quickchart-complete:disabled:hover {\n",
              "    background-color: var(--disabled-bg-color);\n",
              "    fill: var(--disabled-fill-color);\n",
              "    box-shadow: none;\n",
              "  }\n",
              "\n",
              "  .colab-df-spinner {\n",
              "    border: 2px solid var(--fill-color);\n",
              "    border-color: transparent;\n",
              "    border-bottom-color: var(--fill-color);\n",
              "    animation:\n",
              "      spin 1s steps(1) infinite;\n",
              "  }\n",
              "\n",
              "  @keyframes spin {\n",
              "    0% {\n",
              "      border-color: transparent;\n",
              "      border-bottom-color: var(--fill-color);\n",
              "      border-left-color: var(--fill-color);\n",
              "    }\n",
              "    20% {\n",
              "      border-color: transparent;\n",
              "      border-left-color: var(--fill-color);\n",
              "      border-top-color: var(--fill-color);\n",
              "    }\n",
              "    30% {\n",
              "      border-color: transparent;\n",
              "      border-left-color: var(--fill-color);\n",
              "      border-top-color: var(--fill-color);\n",
              "      border-right-color: var(--fill-color);\n",
              "    }\n",
              "    40% {\n",
              "      border-color: transparent;\n",
              "      border-right-color: var(--fill-color);\n",
              "      border-top-color: var(--fill-color);\n",
              "    }\n",
              "    60% {\n",
              "      border-color: transparent;\n",
              "      border-right-color: var(--fill-color);\n",
              "    }\n",
              "    80% {\n",
              "      border-color: transparent;\n",
              "      border-right-color: var(--fill-color);\n",
              "      border-bottom-color: var(--fill-color);\n",
              "    }\n",
              "    90% {\n",
              "      border-color: transparent;\n",
              "      border-bottom-color: var(--fill-color);\n",
              "    }\n",
              "  }\n",
              "</style>\n",
              "\n",
              "  <script>\n",
              "    async function quickchart(key) {\n",
              "      const quickchartButtonEl =\n",
              "        document.querySelector('#' + key + ' button');\n",
              "      quickchartButtonEl.disabled = true;  // To prevent multiple clicks.\n",
              "      quickchartButtonEl.classList.add('colab-df-spinner');\n",
              "      try {\n",
              "        const charts = await google.colab.kernel.invokeFunction(\n",
              "            'suggestCharts', [key], {});\n",
              "      } catch (error) {\n",
              "        console.error('Error during call to suggestCharts:', error);\n",
              "      }\n",
              "      quickchartButtonEl.classList.remove('colab-df-spinner');\n",
              "      quickchartButtonEl.classList.add('colab-df-quickchart-complete');\n",
              "    }\n",
              "    (() => {\n",
              "      let quickchartButtonEl =\n",
              "        document.querySelector('#df-ad7cd23b-fbaa-4bfb-9e98-9f573fee0e6a button');\n",
              "      quickchartButtonEl.style.display =\n",
              "        google.colab.kernel.accessAllowed ? 'block' : 'none';\n",
              "    })();\n",
              "  </script>\n",
              "</div>\n",
              "\n",
              "  <div id=\"id_9975d823-a713-4310-9e74-41ed09dabb5a\">\n",
              "    <style>\n",
              "      .colab-df-generate {\n",
              "        background-color: #E8F0FE;\n",
              "        border: none;\n",
              "        border-radius: 50%;\n",
              "        cursor: pointer;\n",
              "        display: none;\n",
              "        fill: #1967D2;\n",
              "        height: 32px;\n",
              "        padding: 0 0 0 0;\n",
              "        width: 32px;\n",
              "      }\n",
              "\n",
              "      .colab-df-generate:hover {\n",
              "        background-color: #E2EBFA;\n",
              "        box-shadow: 0px 1px 2px rgba(60, 64, 67, 0.3), 0px 1px 3px 1px rgba(60, 64, 67, 0.15);\n",
              "        fill: #174EA6;\n",
              "      }\n",
              "\n",
              "      [theme=dark] .colab-df-generate {\n",
              "        background-color: #3B4455;\n",
              "        fill: #D2E3FC;\n",
              "      }\n",
              "\n",
              "      [theme=dark] .colab-df-generate:hover {\n",
              "        background-color: #434B5C;\n",
              "        box-shadow: 0px 1px 3px 1px rgba(0, 0, 0, 0.15);\n",
              "        filter: drop-shadow(0px 1px 2px rgba(0, 0, 0, 0.3));\n",
              "        fill: #FFFFFF;\n",
              "      }\n",
              "    </style>\n",
              "    <button class=\"colab-df-generate\" onclick=\"generateWithVariable('tips')\"\n",
              "            title=\"Generate code using this dataframe.\"\n",
              "            style=\"display:none;\">\n",
              "\n",
              "  <svg xmlns=\"http://www.w3.org/2000/svg\" height=\"24px\"viewBox=\"0 0 24 24\"\n",
              "       width=\"24px\">\n",
              "    <path d=\"M7,19H8.4L18.45,9,17,7.55,7,17.6ZM5,21V16.75L18.45,3.32a2,2,0,0,1,2.83,0l1.4,1.43a1.91,1.91,0,0,1,.58,1.4,1.91,1.91,0,0,1-.58,1.4L9.25,21ZM18.45,9,17,7.55Zm-12,3A5.31,5.31,0,0,0,4.9,8.1,5.31,5.31,0,0,0,1,6.5,5.31,5.31,0,0,0,4.9,4.9,5.31,5.31,0,0,0,6.5,1,5.31,5.31,0,0,0,8.1,4.9,5.31,5.31,0,0,0,12,6.5,5.46,5.46,0,0,0,6.5,12Z\"/>\n",
              "  </svg>\n",
              "    </button>\n",
              "    <script>\n",
              "      (() => {\n",
              "      const buttonEl =\n",
              "        document.querySelector('#id_9975d823-a713-4310-9e74-41ed09dabb5a button.colab-df-generate');\n",
              "      buttonEl.style.display =\n",
              "        google.colab.kernel.accessAllowed ? 'block' : 'none';\n",
              "\n",
              "      buttonEl.onclick = () => {\n",
              "        google.colab.notebook.generateWithVariable('tips');\n",
              "      }\n",
              "      })();\n",
              "    </script>\n",
              "  </div>\n",
              "\n",
              "    </div>\n",
              "  </div>\n"
            ],
            "application/vnd.google.colaboratory.intrinsic+json": {
              "type": "dataframe",
              "variable_name": "tips",
              "summary": "{\n  \"name\": \"tips\",\n  \"rows\": 244,\n  \"fields\": [\n    {\n      \"column\": \"total_bill\",\n      \"properties\": {\n        \"dtype\": \"number\",\n        \"std\": 8.902411954856856,\n        \"min\": 3.07,\n        \"max\": 50.81,\n        \"num_unique_values\": 229,\n        \"samples\": [\n          22.12,\n          20.23,\n          14.78\n        ],\n        \"semantic_type\": \"\",\n        \"description\": \"\"\n      }\n    },\n    {\n      \"column\": \"tip\",\n      \"properties\": {\n        \"dtype\": \"number\",\n        \"std\": 1.3836381890011826,\n        \"min\": 1.0,\n        \"max\": 10.0,\n        \"num_unique_values\": 123,\n        \"samples\": [\n          3.35,\n          1.5,\n          6.73\n        ],\n        \"semantic_type\": \"\",\n        \"description\": \"\"\n      }\n    },\n    {\n      \"column\": \"sex\",\n      \"properties\": {\n        \"dtype\": \"category\",\n        \"num_unique_values\": 2,\n        \"samples\": [\n          \"Male\",\n          \"Female\"\n        ],\n        \"semantic_type\": \"\",\n        \"description\": \"\"\n      }\n    },\n    {\n      \"column\": \"smoker\",\n      \"properties\": {\n        \"dtype\": \"category\",\n        \"num_unique_values\": 2,\n        \"samples\": [\n          \"Yes\",\n          \"No\"\n        ],\n        \"semantic_type\": \"\",\n        \"description\": \"\"\n      }\n    },\n    {\n      \"column\": \"day\",\n      \"properties\": {\n        \"dtype\": \"category\",\n        \"num_unique_values\": 4,\n        \"samples\": [\n          \"Sat\",\n          \"Fri\"\n        ],\n        \"semantic_type\": \"\",\n        \"description\": \"\"\n      }\n    },\n    {\n      \"column\": \"time\",\n      \"properties\": {\n        \"dtype\": \"category\",\n        \"num_unique_values\": 2,\n        \"samples\": [\n          \"Lunch\",\n          \"Dinner\"\n        ],\n        \"semantic_type\": \"\",\n        \"description\": \"\"\n      }\n    },\n    {\n      \"column\": \"size\",\n      \"properties\": {\n        \"dtype\": \"number\",\n        \"std\": 0,\n        \"min\": 1,\n        \"max\": 6,\n        \"num_unique_values\": 6,\n        \"samples\": [\n          2,\n          3\n        ],\n        \"semantic_type\": \"\",\n        \"description\": \"\"\n      }\n    }\n  ]\n}"
            }
          },
          "metadata": {},
          "execution_count": 39
        }
      ]
    },
    {
      "cell_type": "code",
      "source": [
        "# (i) Write a Python function that calculates their skewness.\n",
        "\n",
        "from scipy.stats import skew\n",
        "\n",
        "def calculate_skewness(data):\n",
        "\n",
        "    return skew(data)\n",
        "\n",
        "data = [1, 2, 2, 3, 4, 5, 6, 7, 8, 8, 9]\n",
        "print(\"Skewness of the data:\", calculate_skewness(data))"
      ],
      "metadata": {
        "colab": {
          "base_uri": "https://localhost:8080/"
        },
        "id": "F0BcBnm1VMu-",
        "outputId": "923ecfe5-cc99-4805-b1b4-a302c8d4a68f"
      },
      "execution_count": 52,
      "outputs": [
        {
          "output_type": "stream",
          "name": "stdout",
          "text": [
            "Skewness of the data: 0.0\n"
          ]
        }
      ]
    },
    {
      "cell_type": "code",
      "source": [
        "from google.colab import drive\n",
        "drive.mount('/content/drive')"
      ],
      "metadata": {
        "id": "ziiTN_1HqRbW"
      },
      "execution_count": null,
      "outputs": []
    },
    {
      "cell_type": "code",
      "source": [
        "# (ii) Create a program that determines whether the columns exhibit positive skewness, negative skewness, or is approximately symmetric.\n",
        "\n",
        "def skewness_type(data):\n",
        "    skew_value = calculate_skewness(data)\n",
        "    if skew_value > 0:\n",
        "        return \"Positive Skewness\"\n",
        "    elif skew_value < 0:\n",
        "        return \"Negative Skewness\"\n",
        "    else:\n",
        "        return \"Approximately Symmetric\"\n",
        "\n",
        "data = [1, 2, 3, 4, 5, 6, 7, 8, 20]  # A positively skewed dataset\n",
        "print(\"Skewness Value:\", calculate_skewness(data))\n",
        "print(\"Skewness Type:\", skewness_type(data))"
      ],
      "metadata": {
        "colab": {
          "base_uri": "https://localhost:8080/"
        },
        "id": "mzXfWNwuT9es",
        "outputId": "0dc7fb45-b329-4eac-f048-112f0133357c"
      },
      "execution_count": 54,
      "outputs": [
        {
          "output_type": "stream",
          "name": "stdout",
          "text": [
            "Skewness Value: 1.731213587319087\n",
            "Skewness Type: Positive Skewness\n"
          ]
        }
      ]
    },
    {
      "cell_type": "code",
      "source": [
        "# (iii) Write a function that calculates the covariance between two columns.\n",
        "\n",
        "def calculate_covariance(col1, col2):\n",
        "\n",
        "    data = pd.DataFrame({'col1': col1, 'col2': col2})\n",
        "    return data.cov().iloc[0, 1]\n",
        "\n",
        "col1 = [1, 2, 3, 4, 5]\n",
        "col2 = [5, 4, 3, 2, 1]\n",
        "\n",
        "covariance = calculate_covariance(col1, col2)\n",
        "print(\"Covariance between col1 and col2:\", covariance)"
      ],
      "metadata": {
        "colab": {
          "base_uri": "https://localhost:8080/"
        },
        "id": "JhNH-H6tT9g6",
        "outputId": "1b685595-b09c-4ed0-b83c-2f719560f950"
      },
      "execution_count": 58,
      "outputs": [
        {
          "output_type": "stream",
          "name": "stdout",
          "text": [
            "Covariance between col1 and col2: -2.5\n"
          ]
        }
      ]
    },
    {
      "cell_type": "code",
      "source": [
        "# (iv) Implement a Python program that calculates the Pearson correlation coefficient between two columns.\n",
        "\n",
        "def calculate_correlation(col1, col2):\n",
        "    return pd.DataFrame({'col1': col1, 'col2': col2}).corr().iloc[0, 1]\n",
        "\n",
        "# Example usage\n",
        "print(\"Skewness of total_bill:\", calculate_skewness(tips['total_bill']))\n",
        "print(\"Skewness Type of total_bill:\", skewness_type(tips['total_bill']))\n",
        "print(\"Covariance:\", calculate_covariance(tips['total_bill'], tips['tip']))\n",
        "print(\"Pearson Correlation Coefficient:\", calculate_correlation(tips['total_bill'], tips['tip']))"
      ],
      "metadata": {
        "colab": {
          "base_uri": "https://localhost:8080/"
        },
        "id": "SqZDk-PAT9i3",
        "outputId": "11e9ddfe-3aff-4a02-9030-ea4924a6c69b"
      },
      "execution_count": 59,
      "outputs": [
        {
          "output_type": "stream",
          "name": "stdout",
          "text": [
            "Skewness of total_bill: 1.1262346334818638\n",
            "Skewness Type of total_bill: Positive Skewness\n",
            "Covariance: 8.323501629224854\n",
            "Pearson Correlation Coefficient: 0.6757341092113648\n"
          ]
        }
      ]
    },
    {
      "cell_type": "code",
      "source": [
        "# (v) Write a script to visualize the correlation between two specific columns in a Pandas DataFrame using scatter plots.\n",
        "\n",
        "import matplotlib.pyplot as plt\n",
        "plt.scatter(tips['total_bill'], tips['tip'])\n",
        "plt.xlabel(\"Total Bill\")\n",
        "plt.ylabel(\"Tip\")\n",
        "plt.title(\"Scatter Plot: Total Bill vs Tip\")\n",
        "plt.show()"
      ],
      "metadata": {
        "colab": {
          "base_uri": "https://localhost:8080/",
          "height": 472
        },
        "id": "B-LrP9ZOdCUX",
        "outputId": "e4e0f2c2-85eb-4a14-a7ac-be5a6935c307"
      },
      "execution_count": 60,
      "outputs": [
        {
          "output_type": "display_data",
          "data": {
            "text/plain": [
              "<Figure size 640x480 with 1 Axes>"
            ],
            "image/png": "[encoded data removed]"
          },
          "metadata": {}
        }
      ]
    },
    {
      "cell_type": "code",
      "source": [
        "# Q-8 Write a Python function to calculate the probability density function (PDF) of a continuous random variable for a given normal distribution.\n",
        "\n",
        "from scipy.stats import norm\n",
        "\n",
        "def calculate_pdf(x, mean, std_dev):\n",
        "    return norm.pdf(x, mean, std_dev)\n",
        "\n",
        "print(\"PDF at x=1:\", calculate_pdf(1, 0, 1))"
      ],
      "metadata": {
        "colab": {
          "base_uri": "https://localhost:8080/"
        },
        "id": "sgEILXNodCWx",
        "outputId": "ba43a56d-b65c-4253-c9a9-6174dd25677e"
      },
      "execution_count": 61,
      "outputs": [
        {
          "output_type": "stream",
          "name": "stdout",
          "text": [
            "PDF at x=1: 0.24197072451914337\n"
          ]
        }
      ]
    },
    {
      "cell_type": "code",
      "source": [
        "# (9) Create a program to calculate the cumulative distribution function (CDF) of exponential distribution.\n",
        "\n",
        "from scipy.stats import expon\n",
        "\n",
        "def calculate_cdf(x, rate):\n",
        "    return expon.cdf(x, scale=1/rate)\n",
        "\n",
        "print(\"CDF at x=1:\", calculate_cdf(1, 1))"
      ],
      "metadata": {
        "colab": {
          "base_uri": "https://localhost:8080/"
        },
        "id": "gewTDb0TdCZG",
        "outputId": "1a1eae6c-2b83-4d3a-ef13-97344ac4356d"
      },
      "execution_count": 62,
      "outputs": [
        {
          "output_type": "stream",
          "name": "stdout",
          "text": [
            "CDF at x=1: 0.6321205588285577\n"
          ]
        }
      ]
    },
    {
      "cell_type": "code",
      "source": [
        "#(10) Write a Python function to calculate the probability mass function (PMF) of Poisson distribution.\n",
        "\n",
        "from scipy.stats import poisson\n",
        "\n",
        "def calculate_pmf(k, rate):\n",
        "    return poisson.pmf(k, rate)\n",
        "\n",
        "print(\"PMF for k=3:\", calculate_pmf(3, 2))"
      ],
      "metadata": {
        "colab": {
          "base_uri": "https://localhost:8080/"
        },
        "id": "eyYN7SROdCbK",
        "outputId": "aecae66c-f527-4068-c0c2-f749b5a97b05"
      },
      "execution_count": 63,
      "outputs": [
        {
          "output_type": "stream",
          "name": "stdout",
          "text": [
            "PMF for k=3: 0.18044704431548356\n"
          ]
        }
      ]
    },
    {
      "cell_type": "code",
      "source": [
        "# Q-11. M A company wants to test if a new website layout leads to a higher conversion rate (percentage of visitors who make a purchase). They collect data from the old and new layouts to compare.\n",
        "\n",
        "# To generate the data use the following command:\n",
        "# import numpy as np\n",
        "# 50 purchases out of 1000 visitors\n",
        "# old_layout = np.array([1] * 50 + [0] * 950)\n",
        "# 70 purchases out of 1000 visitors\n",
        "# new_layout = np.array([1] * 70 + [0] * 930)\n",
        "# Apply z-test to find which layout is successful.\n",
        "\n",
        "from statsmodels.stats.proportion import proportions_ztest\n",
        "\n",
        "old_layout = np.array([1] * 50 + [0] * 950)  # 50 purchases out of 1000 visitors\n",
        "new_layout = np.array([1] * 70 + [0] * 930)  # 70 purchases out of 1000 visitors\n",
        "\n",
        "success = [old_layout.sum(), new_layout.sum()]\n",
        "n_obs = [len(old_layout), len(new_layout)]\n",
        "\n",
        "z_stat, p_value = proportions_ztest(success, n_obs, alternative='larger')\n",
        "\n",
        "print(\"Z-Statistic:\", z_stat)\n",
        "print(\"P-Value:\", p_value)\n",
        "\n",
        "if p_value < 0.05:\n",
        "    print(\"The new layout leads to a significantly higher conversion rate.\")\n",
        "else:\n",
        "    print(\"No significant difference in conversion rates between the old and new layouts.\")"
      ],
      "metadata": {
        "colab": {
          "base_uri": "https://localhost:8080/"
        },
        "id": "QVyWt4mLe8N_",
        "outputId": "5aab7820-0279-4ba9-944c-658843ac7880"
      },
      "execution_count": 64,
      "outputs": [
        {
          "output_type": "stream",
          "name": "stdout",
          "text": [
            "Z-Statistic: -1.883108942886774\n",
            "P-Value: 0.9701571972337869\n",
            "No significant difference in conversion rates between the old and new layouts.\n"
          ]
        }
      ]
    },
    {
      "cell_type": "code",
      "source": [
        "# Q-12. A tutoring service claims that its program improves students' exam scores. A sample of students who participated in the program was taken, and their scores before and after the program were recorded.\n",
        "# Use the below code to generate samples of respective arrays of marks:\n",
        "# before_program = np.array([75, 80, 85, 70, 90, 78, 92, 88, 82, 87])\n",
        "# after_program = np.array([80, 85, 90, 80, 92, 80, 95, 90, 85, 88])\n",
        "# Use z-test to find if the claims made by tutor are true or false.\n",
        "\n",
        "from scipy.stats import ttest_rel\n",
        "\n",
        "before_program = np.array([75, 80, 85, 70, 90, 78, 92, 88, 82, 87])\n",
        "after_program = np.array([80, 85, 90, 80, 92, 80, 95, 90, 85, 88])\n",
        "\n",
        "t_stat, p_value = ttest_rel(after_program, before_program)\n",
        "\n",
        "print(\"T-Statistic:\", t_stat)\n",
        "print(\"P-Value:\", p_value)\n",
        "\n",
        "if p_value < 0.05:\n",
        "    print(\"The tutoring program significantly improves exam scores.\")\n",
        "else:\n",
        "    print(\"No significant improvement in exam scores after the tutoring program.\")"
      ],
      "metadata": {
        "colab": {
          "base_uri": "https://localhost:8080/"
        },
        "id": "MOrqZpPQe8ST",
        "outputId": "ffefcdea-d1d2-4e92-e951-47fb62a18be6"
      },
      "execution_count": 65,
      "outputs": [
        {
          "output_type": "stream",
          "name": "stdout",
          "text": [
            "T-Statistic: 4.593190894944668\n",
            "P-Value: 0.0013030932910086035\n",
            "The tutoring program significantly improves exam scores.\n"
          ]
        }
      ]
    },
    {
      "cell_type": "code",
      "source": [
        "# Q-13. A pharmaceutical company wants to determine if a new drug is effective in reducing blood pressure. They conduct a study and record blood pressure measurements before and after administering the drug.\n",
        "# Use the below code to generate samples of respective arrays of blood pressure:\n",
        "# before_drug = np.array([145, 150, 140, 135, 155, 160, 152, 148, 130, 138])\n",
        "# after_drug = np.array([130, 140, 132, 128, 145, 148, 138, 136, 125, 130])\n",
        "# Implement z-test to find if the drug really works or not.\n",
        "\n",
        "before_drug = np.array([145, 150, 140, 135, 155, 160, 152, 148, 130, 138])\n",
        "after_drug = np.array([130, 140, 132, 128, 145, 148, 138, 136, 125, 130])\n",
        "\n",
        "t_stat, p_value = ttest_rel(before_drug, after_drug)\n",
        "\n",
        "print(\"T-Statistic:\", t_stat)\n",
        "print(\"P-Value:\", p_value)\n",
        "\n",
        "if p_value < 0.05:\n",
        "    print(\"The drug significantly reduces blood pressure.\")\n",
        "else:\n",
        "    print(\"The drug does not significantly reduce blood pressure.\")"
      ],
      "metadata": {
        "colab": {
          "base_uri": "https://localhost:8080/"
        },
        "id": "E-O93QEPe8WK",
        "outputId": "a06e82a0-71f2-4817-f0d3-807602a7177c"
      },
      "execution_count": 66,
      "outputs": [
        {
          "output_type": "stream",
          "name": "stdout",
          "text": [
            "T-Statistic: 10.04987562112089\n",
            "P-Value: 3.433031432681152e-06\n",
            "The drug significantly reduces blood pressure.\n"
          ]
        }
      ]
    },
    {
      "cell_type": "code",
      "source": [
        "# Q-14. A customer service department claims that their average response time is less than 5 minutes. A sampleof recent customer interactions was taken, and the response times were recorded.\n",
        "# Implement the below code to generate the array of response time:\n",
        "# response_times = np.array([4.3, 3.8, 5.1, 4.9, 4.7, 4.2, 5.2, 4.5, 4.6, 4.4])\n",
        "# Implement z-test to find the claims made by customer service department are tru or false\n",
        "\n",
        "from scipy.stats import norm\n",
        "\n",
        "response_times = np.array([4.3, 3.8, 5.1, 4.9, 4.7, 4.2, 5.2, 4.5, 4.6, 4.4])\n",
        "population_mean = 5\n",
        "\n",
        "sample_mean = response_times.mean()\n",
        "sample_std = response_times.std(ddof=1)\n",
        "\n",
        "n = len(response_times)\n",
        "z_stat = (sample_mean - population_mean) / (sample_std / np.sqrt(n))\n",
        "\n",
        "p_value = norm.cdf(z_stat)\n",
        "\n",
        "print(\"Z-Statistic:\", z_stat)\n",
        "print(\"P-Value:\", p_value)\n",
        "\n",
        "if p_value < 0.05:\n",
        "    print(\"The claim that the average response time is less than 5 minutes is TRUE.\")\n",
        "else:\n",
        "    print(\"The claim that the average response time is less than 5 minutes is FALSE.\")"
      ],
      "metadata": {
        "colab": {
          "base_uri": "https://localhost:8080/"
        },
        "id": "QpJwJ5D7e8ZB",
        "outputId": "13a86ae9-af3c-41d8-a1e5-ff140ca8ea56"
      },
      "execution_count": 67,
      "outputs": [
        {
          "output_type": "stream",
          "name": "stdout",
          "text": [
            "Z-Statistic: -3.184457226042963\n",
            "P-Value: 0.0007251287113068958\n",
            "The claim that the average response time is less than 5 minutes is TRUE.\n"
          ]
        }
      ]
    },
    {
      "cell_type": "code",
      "source": [
        "# Q-15. A company is testing two different website layouts to see which one leads to higher click-through rates. Write a Python function to perform an A/B test analysis, including calculating the t-statistic, degrees of freedom, and p-value.\n",
        "# Use the following data:\n",
        "# layout_a_clicks = [28, 32, 33, 29, 31, 34, 30, 35, 36, 37]\n",
        "# layout_b_clicks = [40, 41, 38, 42, 39, 44, 43, 41, 45, 47]\n",
        "\n",
        "layout_a_clicks = [28, 32, 33, 29, 31, 34, 30, 35, 36, 37]\n",
        "layout_b_clicks = [40, 41, 38, 42, 39, 44, 43, 41, 45, 47]\n",
        "\n",
        "t_stat, p_value = ttest_ind(layout_a_clicks, layout_b_clicks)\n",
        "\n",
        "print(\"T-Statistic:\", t_stat)\n",
        "print(\"P-Value:\", p_value)\n",
        "\n",
        "if p_value < 0.05:\n",
        "    print(\"There is a significant difference between the two layouts.\")\n",
        "else:\n",
        "    print(\"There is no significant difference between the two layouts.\")"
      ],
      "metadata": {
        "colab": {
          "base_uri": "https://localhost:8080/"
        },
        "id": "9V6U7t6ne8bH",
        "outputId": "35319dc2-a26b-419b-ff23-2b2a4baee565"
      },
      "execution_count": 68,
      "outputs": [
        {
          "output_type": "stream",
          "name": "stdout",
          "text": [
            "T-Statistic: -7.298102156175071\n",
            "P-Value: 8.833437608301987e-07\n",
            "There is a significant difference between the two layouts.\n"
          ]
        }
      ]
    },
    {
      "cell_type": "code",
      "source": [
        "# Q-16. A pharmaceutical company wants to determine if a new drug is more effective than an existing drug in reducing cholesterol levels. Create a program to analyze the clinical trial data and calculate the tstatistic and p-value for the treatment effect.\n",
        "# Use the following data of cholestrol level:\n",
        "# existing_drug_levels = [180, 182, 175, 185, 178, 176, 172, 184, 179, 183]\n",
        "# new_drug_levels = [170, 172, 165, 168, 175, 173, 170, 178, 172, 176]\n",
        "\n",
        "layout_a_clicks = [28, 32, 33, 29, 31, 34, 30, 35, 36, 37]\n",
        "layout_b_clicks = [40, 41, 38, 42, 39, 44, 43, 41, 45, 47]\n",
        "\n",
        "t_stat, p_value = ttest_ind(layout_a_clicks, layout_b_clicks)\n",
        "\n",
        "print(\"T-Statistic:\", t_stat)\n",
        "print(\"P-Value:\", p_value)\n",
        "\n",
        "if p_value < 0.05:\n",
        "    print(\"There is a significant difference between the two layouts.\")\n",
        "else:\n",
        "    print(\"There is no significant difference between the two layouts.\")"
      ],
      "metadata": {
        "colab": {
          "base_uri": "https://localhost:8080/"
        },
        "id": "LnN0kNAve8dI",
        "outputId": "17f5ac83-ce50-4d3b-e802-8975753ab3e3"
      },
      "execution_count": 69,
      "outputs": [
        {
          "output_type": "stream",
          "name": "stdout",
          "text": [
            "T-Statistic: -7.298102156175071\n",
            "P-Value: 8.833437608301987e-07\n",
            "There is a significant difference between the two layouts.\n"
          ]
        }
      ]
    },
    {
      "cell_type": "code",
      "source": [
        "# Q-17. A school district introduces an educational intervention program to improve math scores. Write a Python function to analyze pre- and post-intervention test scores, calculating the t-statistic and p-value to determine if the intervention had a significant impact.\n",
        "# Use the following data of test score:\n",
        "#   pre_intervention_scores = [80, 85, 90, 75, 88, 82, 92, 78, 85, 87]\n",
        "#   post_intervention_scores = [90, 92, 88, 92, 95, 91, 96, 93, 89, 93]\n",
        "\n",
        "pre_intervention_scores = [80, 85, 90, 75, 88, 82, 92, 78, 85, 87]\n",
        "post_intervention_scores = [90, 92, 88, 92, 95, 91, 96, 93, 89, 93]\n",
        "\n",
        "# Perform paired t-test\n",
        "t_stat, p_value = ttest_rel(post_intervention_scores, pre_intervention_scores)\n",
        "\n",
        "print(\"T-Statistic:\", t_stat)\n",
        "print(\"P-Value:\", p_value)\n",
        "\n",
        "if p_value < 0.05:\n",
        "    print(\"The intervention had a significant impact on math scores.\")\n",
        "else:\n",
        "    print(\"The intervention did not have a significant impact on math scores.\")"
      ],
      "metadata": {
        "colab": {
          "base_uri": "https://localhost:8080/"
        },
        "id": "Tmb7ZhfadCc2",
        "outputId": "738adc0d-a0df-4fff-93a0-f03969c287e1"
      },
      "execution_count": 70,
      "outputs": [
        {
          "output_type": "stream",
          "name": "stdout",
          "text": [
            "T-Statistic: 4.42840883965761\n",
            "P-Value: 0.0016509548165795493\n",
            "The intervention had a significant impact on math scores.\n"
          ]
        }
      ]
    },
    {
      "cell_type": "code",
      "source": [
        "# Q-18. An HR department wants to investigate if there's a gender-based salary gap within the company. Developa program to analyze salary data, calculate the t-statistic, and determine if there's a statistically significant difference between the average salaries of male and female employees.\n",
        "# Use the below code to generate synthetic data:\n",
        "# np.random.seed(0)  # For reproducibility\n",
        "# male_salaries = np.random.normal(loc=50000, scale=10000, size=20)\n",
        "# female_salaries = np.random.normal(loc=55000, scale=9000, size=20)\n",
        "\n",
        "np.random.seed(0)\n",
        "male_salaries = np.random.normal(loc=50000, scale=10000, size=20)\n",
        "female_salaries = np.random.normal(loc=55000, scale=9000, size=20)\n",
        "\n",
        "t_stat, p_value = ttest_ind(male_salaries, female_salaries)\n",
        "\n",
        "print(\"T-Statistic:\", t_stat)\n",
        "print(\"P-Value:\", p_value)\n",
        "\n",
        "if p_value < 0.05:\n",
        "    print(\"There is a statistically significant difference in salaries between male and female employees.\")\n",
        "else:\n",
        "    print(\"There is no statistically significant difference in salaries between male and female employees.\")"
      ],
      "metadata": {
        "colab": {
          "base_uri": "https://localhost:8080/"
        },
        "id": "CqX6JdbjdCfE",
        "outputId": "1689e2f9-3a83-4f44-ee4c-aafd7f38118d"
      },
      "execution_count": 77,
      "outputs": [
        {
          "output_type": "stream",
          "name": "stdout",
          "text": [
            "T-Statistic: 0.06114208969631383\n",
            "P-Value: 0.9515665020676465\n",
            "There is no statistically significant difference in salaries between male and female employees.\n"
          ]
        }
      ]
    },
    {
      "cell_type": "code",
      "source": [
        "# Q-19. A manufacturer produces two different versions of a product and wants to compare their quality scores.Create a Python function to analyze quality assessment data, calculate the t-statistic, and decide whether there's a significant difference in quality between the two versions.\n",
        "# Use the following data:\n",
        "# version1_scores = [85, 88, 82, 89, 87, 84, 90, 88, 85, 86, 91, 83, 87, 84, 89, 86, 84, 88, 85, 86, 89, 90, 87, 88, 85]\n",
        "# version2_scores = [80, 78, 83, 81, 79, 82, 76, 80, 78, 81, 77, 82, 80, 79, 82, 79, 80, 81, 79, 82, 79, 78, 80, 81, 82]\n",
        "\n",
        "version1_scores = [85, 88, 82, 89, 87, 84, 90, 88, 85, 86, 91, 83, 87, 84, 89, 86, 84, 88, 85, 86, 89, 90, 87, 88, 85]\n",
        "version2_scores = [80, 78, 83, 81, 79, 82, 76, 80, 78, 81, 77, 82, 80, 79, 82, 79, 80, 81, 79, 82, 79, 78, 80, 81, 82]\n",
        "\n",
        "t_stat, p_value = ttest_ind(version1_scores, version2_scores)\n",
        "\n",
        "print(\"T-Statistic:\", t_stat)\n",
        "print(\"P-Value:\", p_value)\n",
        "\n",
        "if p_value < 0.05:\n",
        "    print(\"There is a statistically significant difference in quality between the two versions.\")\n",
        "else:\n",
        "    print(\"There is no statistically significant difference in quality between the two versions.\")"
      ],
      "metadata": {
        "colab": {
          "base_uri": "https://localhost:8080/"
        },
        "id": "UJwRIBu6lGdg",
        "outputId": "6f87514d-6a07-413b-ca24-dc351156333a"
      },
      "execution_count": 72,
      "outputs": [
        {
          "output_type": "stream",
          "name": "stdout",
          "text": [
            "T-Statistic: 11.325830417646698\n",
            "P-Value: 3.6824250702873965e-15\n",
            "There is a statistically significant difference in quality between the two versions.\n"
          ]
        }
      ]
    },
    {
      "cell_type": "code",
      "source": [
        "# Q-20. A restaurant chain collects customer satisfaction scores for two different branches. Write a program to analyze the scores, calculate the t-statistic, and determine if there's a statistically significant difference in customer satisfaction between the branches.\n",
        "# Use the below data of scores:\n",
        "# branch_a_scores = [4, 5, 3, 4, 5, 4, 5, 3, 4, 4, 5, 4, 4, 3, 4, 5, 5, 4, 3, 4, 5, 4, 3, 5, 4, 4, 5, 3, 4, 5, 4]\n",
        "# branch_b_scores = [3, 4, 2, 3, 4, 3, 4, 2, 3, 3, 4, 3, 3, 2, 3, 4, 4, 3, 2, 3, 4, 3, 2, 4, 3, 3, 4, 2, 3, 4, 3]\n",
        "\n",
        "branch_a_scores = [4, 5, 3, 4, 5, 4, 5, 3, 4, 4, 5, 4, 4, 3, 4, 5, 5, 4, 3, 4, 5, 4, 3, 5, 4, 4, 5, 3, 4, 5, 4]\n",
        "branch_b_scores = [3, 4, 2, 3, 4, 3, 4, 2, 3, 3, 4, 3, 3, 2, 3, 4, 4, 3, 2, 3, 4, 3, 2, 4, 3, 3, 4, 2, 3, 4, 3]\n",
        "\n",
        "t_stat, p_value = ttest_ind(branch_a_scores, branch_b_scores)\n",
        "\n",
        "print(\"T-Statistic:\", t_stat)\n",
        "print(\"P-Value:\", p_value)\n",
        "\n",
        "if p_value < 0.05:\n",
        "    print(\"There is a statistically significant difference in customer satisfaction between the branches.\")\n",
        "else:\n",
        "    print(\"There is no statistically significant difference in customer satisfaction between the branches.\")"
      ],
      "metadata": {
        "colab": {
          "base_uri": "https://localhost:8080/"
        },
        "id": "hZJD75VYlGUH",
        "outputId": "96f12582-1889-4e73-ebf0-8915b3363fa4"
      },
      "execution_count": 73,
      "outputs": [
        {
          "output_type": "stream",
          "name": "stdout",
          "text": [
            "T-Statistic: 5.480077554195743\n",
            "P-Value: 8.895290509945655e-07\n",
            "There is a statistically significant difference in customer satisfaction between the branches.\n"
          ]
        }
      ]
    },
    {
      "cell_type": "code",
      "source": [
        "# Q-21. A political analyst wants to determine if there is a significant association between age groups and voterpreferences (Candidate A or Candidate B). They collect data from a sample of 500 voters and classify them into different age groups and candidate preferences. Perform a Chi-Square test to determine if there is a significant association between age groups and voter preferences.\n",
        "# Use the below code to generate data:\n",
        "# np.random.seed(0)\n",
        "# age_groups = np.random.choice([ 18 30 , 31 50 , 51+', 51+'], size=30)\n",
        "# voter_preferences = np.random.choice(['Candidate A', 'Candidate B'], size=30)\n",
        "\n",
        "np.random.seed(0)\n",
        "age_groups = np.random.choice(['18-30', '31-50', '51+'], size=30)\n",
        "voter_preferences = np.random.choice(['Candidate A', 'Candidate B'], size=30)\n",
        "\n",
        "data = pd.DataFrame({'Age Group': age_groups, 'Voter Preference': voter_preferences})\n",
        "contingency_table = pd.crosstab(data['Age Group'], data['Voter Preference'])\n",
        "\n",
        "chi2_stat, p_value, dof, expected = chi2_contingency(contingency_table)\n",
        "\n",
        "print(\"Chi-Square Statistic:\", chi2_stat)\n",
        "print(\"P-Value:\", p_value)\n",
        "print(\"Degrees of Freedom:\", dof)\n",
        "print(\"Expected Frequencies:\\n\", expected)\n",
        "\n",
        "if p_value < 0.05:\n",
        "    print(\"There is a significant association between age groups and voter preferences.\")\n",
        "else:\n",
        "    print(\"There is no significant association between age groups and voter preferences.\")"
      ],
      "metadata": {
        "colab": {
          "base_uri": "https://localhost:8080/"
        },
        "id": "5F4y5wRNlJ9t",
        "outputId": "a5ed4fef-2594-4cd2-fcd2-280572bce65c"
      },
      "execution_count": 76,
      "outputs": [
        {
          "output_type": "stream",
          "name": "stdout",
          "text": [
            "Chi-Square Statistic: 1.4401669758812612\n",
            "P-Value: 0.48671161971286614\n",
            "Degrees of Freedom: 2\n",
            "Expected Frequencies:\n",
            " [[5.6        6.4       ]\n",
            " [5.13333333 5.86666667]\n",
            " [3.26666667 3.73333333]]\n",
            "There is no significant association between age groups and voter preferences.\n"
          ]
        }
      ]
    },
    {
      "cell_type": "code",
      "source": [
        "# Q-22. A company conducted a customer satisfaction survey to determine if there is a significant relationshipbetween product satisfaction levels (Satisfied, Neutral, Dissatisfied) and the region where customers are located (East, West, North, South). The survey data is summarized in a contingency table. Conduct a ChiSquare test to determine if there is a significant relationship between product satisfaction levels and customer regions.\n",
        "# Sample data:\n",
        "# Sample data: Product satisfaction levels (rows) vs. Customer regions (columns)\n",
        "# data = np.array([[50, 30, 40, 20], [30, 40, 30, 50], [20, 30, 40, 30]])\n",
        "\n",
        "data = np.array([[50, 30, 40, 20], [30, 40, 30, 50], [20, 30, 40, 30]])\n",
        "chi2_stat, p_value, dof, expected = chi2_contingency(data)\n",
        "\n",
        "print(\"Chi-Square Statistic:\", chi2_stat)\n",
        "print(\"P-Value:\", p_value)\n",
        "print(\"Degrees of Freedom:\", dof)\n",
        "print(\"Expected Frequencies:\\n\", expected)\n",
        "\n",
        "if p_value < 0.05:\n",
        "    print(\"There is a significant relationship between product satisfaction levels and customer regions.\")\n",
        "else:\n",
        "    print(\"There is no significant relationship between product satisfaction levels and customer regions.\")\n"
      ],
      "metadata": {
        "colab": {
          "base_uri": "https://localhost:8080/"
        },
        "id": "MdRWg04jlSW5",
        "outputId": "5de6d448-0f75-4433-ae60-30a45cfe9ee2"
      },
      "execution_count": 79,
      "outputs": [
        {
          "output_type": "stream",
          "name": "stdout",
          "text": [
            "Chi-Square Statistic: 27.777056277056275\n",
            "P-Value: 0.00010349448486004387\n",
            "Degrees of Freedom: 6\n",
            "Expected Frequencies:\n",
            " [[34.14634146 34.14634146 37.56097561 34.14634146]\n",
            " [36.58536585 36.58536585 40.24390244 36.58536585]\n",
            " [29.26829268 29.26829268 32.19512195 29.26829268]]\n",
            "There is a significant relationship between product satisfaction levels and customer regions.\n"
          ]
        }
      ]
    },
    {
      "cell_type": "code",
      "source": [
        "# Q-23. A company implemented an employee training program to improve job performance (Effective, Neutral, Ineffective). After the training, they collected data from a sample of employees and classified them based on their job performance before and after the training. Perform a Chi-Square test to determine if there is a significant difference between job performance levels before and after the training.\n",
        "# Sample data:\n",
        "# Sample data: Job performance levels before (rows) and after (columns) training\n",
        "# data = np.array([[50, 30, 20], [30, 40, 30], [20, 30, 40]])\n",
        "\n",
        "data = np.array([[50, 30, 20], [30, 40, 30], [20, 30, 40]])\n",
        "chi2_stat, p_value, dof, expected = chi2_contingency(data)\n",
        "\n",
        "print(\"Chi-Square Statistic:\", chi2_stat)\n",
        "print(\"P-Value:\", p_value)\n",
        "print(\"Degrees of Freedom:\", dof)\n",
        "print(\"Expected Frequencies:\\n\", expected)\n",
        "\n",
        "if p_value < 0.05:\n",
        "    print(\"There is a significant difference in job performance levels before and after the training.\")\n",
        "else:\n",
        "    print(\"There is no significant difference in job performance levels before and after the training.\")"
      ],
      "metadata": {
        "colab": {
          "base_uri": "https://localhost:8080/"
        },
        "id": "1Q86I5lTlSY1",
        "outputId": "00685e1c-5190-4284-c8cd-004096827e1f"
      },
      "execution_count": 80,
      "outputs": [
        {
          "output_type": "stream",
          "name": "stdout",
          "text": [
            "Chi-Square Statistic: 22.161728395061726\n",
            "P-Value: 0.00018609719479882557\n",
            "Degrees of Freedom: 4\n",
            "Expected Frequencies:\n",
            " [[34.48275862 34.48275862 31.03448276]\n",
            " [34.48275862 34.48275862 31.03448276]\n",
            " [31.03448276 31.03448276 27.93103448]]\n",
            "There is a significant difference in job performance levels before and after the training.\n"
          ]
        }
      ]
    },
    {
      "cell_type": "code",
      "source": [
        "# Q-24. A company produces three different versions of a product: Standard, Premium, and Deluxe. The company wants to determine if there is a significant difference in customer satisfaction scores among the three product versions. They conducted a survey and collected customer satisfaction scores for each version from a random sample of customers. Perform an ANOVA test to determine if there is a significant difference in customer satisfaction scores.\n",
        "#   Use the following data:\n",
        "#   Sample data: Customer satisfaction scores for each product version\n",
        "#   standard_scores = [80, 85, 90, 78, 88, 82, 92, 78, 85, 87]\n",
        "#   premium_scores = [90, 92, 88, 92, 95, 91, 96, 93, 89, 93]\n",
        "#   deluxe_scores = [95, 98, 92, 97, 96, 94, 98, 97, 92, 99]\n",
        "\n",
        "from scipy.stats import f_oneway\n",
        "standard_scores = [80, 85, 90, 78, 88, 82, 92, 78, 85, 87]\n",
        "premium_scores = [90, 92, 88, 92, 95, 91, 96, 93, 89, 93]\n",
        "deluxe_scores = [95, 98, 92, 97, 96, 94, 98, 97, 92, 99]\n",
        "\n",
        "f_stat, p_value = f_oneway(standard_scores, premium_scores, deluxe_scores)\n",
        "\n",
        "print(\"F-Statistic:\", f_stat)\n",
        "print(\"P-Value:\", p_value)\n",
        "\n",
        "if p_value < 0.05:\n",
        "    print(\"There is a significant difference in customer satisfaction scores among the three product versions.\")\n",
        "else:\n",
        "    print(\"There is no significant difference in customer satisfaction scores among the three product versions.\")\n"
      ],
      "metadata": {
        "colab": {
          "base_uri": "https://localhost:8080/"
        },
        "id": "04qEvkDNlSaq",
        "outputId": "ce4b2fbd-c78e-48f4-81d0-0851ee232c68"
      },
      "execution_count": 82,
      "outputs": [
        {
          "output_type": "stream",
          "name": "stdout",
          "text": [
            "F-Statistic: 27.03556231003039\n",
            "P-Value: 3.5786328857349003e-07\n",
            "There is a significant difference in customer satisfaction scores among the three product versions.\n"
          ]
        }
      ]
    },
    {
      "cell_type": "code",
      "source": [],
      "metadata": {
        "id": "40r4t9KPlSc2"
      },
      "execution_count": null,
      "outputs": []
    },
    {
      "cell_type": "code",
      "source": [],
      "metadata": {
        "id": "p9Y49uF3lSfF"
      },
      "execution_count": null,
      "outputs": []
    },
    {
      "cell_type": "code",
      "source": [],
      "metadata": {
        "id": "Zwvf3Q50lSg7"
      },
      "execution_count": null,
      "outputs": []
    },
    {
      "cell_type": "code",
      "source": [],
      "metadata": {
        "id": "sO2kI4zWlSja"
      },
      "execution_count": null,
      "outputs": []
    },
    {
      "cell_type": "code",
      "source": [],
      "metadata": {
        "id": "kL_cKyrglSlv"
      },
      "execution_count": null,
      "outputs": []
    },
    {
      "cell_type": "code",
      "source": [],
      "metadata": {
        "id": "FF3fDalzlSnL"
      },
      "execution_count": null,
      "outputs": []
    }
  ]
}